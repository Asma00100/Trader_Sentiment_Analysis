{
  "nbformat": 4,
  "nbformat_minor": 0,
  "metadata": {
    "colab": {
      "provenance": []
    },
    "kernelspec": {
      "name": "python3",
      "display_name": "Python 3"
    },
    "language_info": {
      "name": "python"
    }
  },
  "cells": [
    {
      "cell_type": "code",
      "execution_count": 67,
      "metadata": {
        "id": "KQbyTEQ2W_cl"
      },
      "outputs": [],
      "source": [
        "#importing neccesaary libraries\n",
        "import numpy as np\n",
        "import pandas as pd\n",
        "import seaborn as sn\n",
        "import matplotlib.pyplot as plt\n"
      ]
    },
    {
      "cell_type": "code",
      "source": [
        "#Loading both the dataset\n",
        "df1=pd.read_csv(r\"/content/drive/MyDrive/Colab_Notebooks/dataset/historical_data.csv\")\n",
        "df2=pd.read_csv(r\"/content/drive/MyDrive/Colab_Notebooks/dataset/fear_greed_index.csv\")"
      ],
      "metadata": {
        "id": "93tl-63dXvqF"
      },
      "execution_count": 68,
      "outputs": []
    },
    {
      "cell_type": "code",
      "source": [
        "df1['Timestamp IST'] = pd.to_datetime(df1['Timestamp IST'], format='%d-%m-%Y %H:%M')\n",
        "\n",
        "df1['date'] = df1['Timestamp IST'].dt.date\n",
        "\n",
        "df2['date'] = pd.to_datetime(df2['date']).dt.date"
      ],
      "metadata": {
        "id": "Ccv-m17Wrz7W"
      },
      "execution_count": 69,
      "outputs": []
    },
    {
      "cell_type": "code",
      "source": [
        "#df1.head()"
      ],
      "metadata": {
        "id": "oESZEUF2rz8-"
      },
      "execution_count": 70,
      "outputs": []
    },
    {
      "cell_type": "code",
      "source": [
        "# Merging on the date column\n",
        "df = pd.merge(df1, df2[['date', 'classification']], on='date', how='left')\n",
        "#df.head()"
      ],
      "metadata": {
        "id": "H83ORGsFvtM_"
      },
      "execution_count": 71,
      "outputs": []
    },
    {
      "cell_type": "code",
      "source": [
        "#checking whether the data consist of null values or not\n",
        "df.isnull().sum()"
      ],
      "metadata": {
        "colab": {
          "base_uri": "https://localhost:8080/",
          "height": 649
        },
        "id": "JIzX9o6yX-sw",
        "outputId": "9846c083-14aa-4527-a1a7-9f436dc8cc58"
      },
      "execution_count": 72,
      "outputs": [
        {
          "output_type": "execute_result",
          "data": {
            "text/plain": [
              "Account             0\n",
              "Coin                0\n",
              "Execution Price     0\n",
              "Size Tokens         0\n",
              "Size USD            0\n",
              "Side                0\n",
              "Timestamp IST       0\n",
              "Start Position      0\n",
              "Direction           0\n",
              "Closed PnL          0\n",
              "Transaction Hash    0\n",
              "Order ID            0\n",
              "Crossed             0\n",
              "Fee                 0\n",
              "Trade ID            0\n",
              "Timestamp           0\n",
              "date                0\n",
              "classification      6\n",
              "dtype: int64"
            ],
            "text/html": [
              "<div>\n",
              "<style scoped>\n",
              "    .dataframe tbody tr th:only-of-type {\n",
              "        vertical-align: middle;\n",
              "    }\n",
              "\n",
              "    .dataframe tbody tr th {\n",
              "        vertical-align: top;\n",
              "    }\n",
              "\n",
              "    .dataframe thead th {\n",
              "        text-align: right;\n",
              "    }\n",
              "</style>\n",
              "<table border=\"1\" class=\"dataframe\">\n",
              "  <thead>\n",
              "    <tr style=\"text-align: right;\">\n",
              "      <th></th>\n",
              "      <th>0</th>\n",
              "    </tr>\n",
              "  </thead>\n",
              "  <tbody>\n",
              "    <tr>\n",
              "      <th>Account</th>\n",
              "      <td>0</td>\n",
              "    </tr>\n",
              "    <tr>\n",
              "      <th>Coin</th>\n",
              "      <td>0</td>\n",
              "    </tr>\n",
              "    <tr>\n",
              "      <th>Execution Price</th>\n",
              "      <td>0</td>\n",
              "    </tr>\n",
              "    <tr>\n",
              "      <th>Size Tokens</th>\n",
              "      <td>0</td>\n",
              "    </tr>\n",
              "    <tr>\n",
              "      <th>Size USD</th>\n",
              "      <td>0</td>\n",
              "    </tr>\n",
              "    <tr>\n",
              "      <th>Side</th>\n",
              "      <td>0</td>\n",
              "    </tr>\n",
              "    <tr>\n",
              "      <th>Timestamp IST</th>\n",
              "      <td>0</td>\n",
              "    </tr>\n",
              "    <tr>\n",
              "      <th>Start Position</th>\n",
              "      <td>0</td>\n",
              "    </tr>\n",
              "    <tr>\n",
              "      <th>Direction</th>\n",
              "      <td>0</td>\n",
              "    </tr>\n",
              "    <tr>\n",
              "      <th>Closed PnL</th>\n",
              "      <td>0</td>\n",
              "    </tr>\n",
              "    <tr>\n",
              "      <th>Transaction Hash</th>\n",
              "      <td>0</td>\n",
              "    </tr>\n",
              "    <tr>\n",
              "      <th>Order ID</th>\n",
              "      <td>0</td>\n",
              "    </tr>\n",
              "    <tr>\n",
              "      <th>Crossed</th>\n",
              "      <td>0</td>\n",
              "    </tr>\n",
              "    <tr>\n",
              "      <th>Fee</th>\n",
              "      <td>0</td>\n",
              "    </tr>\n",
              "    <tr>\n",
              "      <th>Trade ID</th>\n",
              "      <td>0</td>\n",
              "    </tr>\n",
              "    <tr>\n",
              "      <th>Timestamp</th>\n",
              "      <td>0</td>\n",
              "    </tr>\n",
              "    <tr>\n",
              "      <th>date</th>\n",
              "      <td>0</td>\n",
              "    </tr>\n",
              "    <tr>\n",
              "      <th>classification</th>\n",
              "      <td>6</td>\n",
              "    </tr>\n",
              "  </tbody>\n",
              "</table>\n",
              "</div><br><label><b>dtype:</b> int64</label>"
            ]
          },
          "metadata": {},
          "execution_count": 72
        }
      ]
    },
    {
      "cell_type": "code",
      "source": [
        "df.duplicated()"
      ],
      "metadata": {
        "colab": {
          "base_uri": "https://localhost:8080/",
          "height": 458
        },
        "id": "z4H35_VBYKJ2",
        "outputId": "882d2aa8-b021-4ef9-f48c-40582d2f06d6"
      },
      "execution_count": 73,
      "outputs": [
        {
          "output_type": "execute_result",
          "data": {
            "text/plain": [
              "0         False\n",
              "1         False\n",
              "2         False\n",
              "3         False\n",
              "4         False\n",
              "          ...  \n",
              "211219    False\n",
              "211220    False\n",
              "211221    False\n",
              "211222    False\n",
              "211223    False\n",
              "Length: 211224, dtype: bool"
            ],
            "text/html": [
              "<div>\n",
              "<style scoped>\n",
              "    .dataframe tbody tr th:only-of-type {\n",
              "        vertical-align: middle;\n",
              "    }\n",
              "\n",
              "    .dataframe tbody tr th {\n",
              "        vertical-align: top;\n",
              "    }\n",
              "\n",
              "    .dataframe thead th {\n",
              "        text-align: right;\n",
              "    }\n",
              "</style>\n",
              "<table border=\"1\" class=\"dataframe\">\n",
              "  <thead>\n",
              "    <tr style=\"text-align: right;\">\n",
              "      <th></th>\n",
              "      <th>0</th>\n",
              "    </tr>\n",
              "  </thead>\n",
              "  <tbody>\n",
              "    <tr>\n",
              "      <th>0</th>\n",
              "      <td>False</td>\n",
              "    </tr>\n",
              "    <tr>\n",
              "      <th>1</th>\n",
              "      <td>False</td>\n",
              "    </tr>\n",
              "    <tr>\n",
              "      <th>2</th>\n",
              "      <td>False</td>\n",
              "    </tr>\n",
              "    <tr>\n",
              "      <th>3</th>\n",
              "      <td>False</td>\n",
              "    </tr>\n",
              "    <tr>\n",
              "      <th>4</th>\n",
              "      <td>False</td>\n",
              "    </tr>\n",
              "    <tr>\n",
              "      <th>...</th>\n",
              "      <td>...</td>\n",
              "    </tr>\n",
              "    <tr>\n",
              "      <th>211219</th>\n",
              "      <td>False</td>\n",
              "    </tr>\n",
              "    <tr>\n",
              "      <th>211220</th>\n",
              "      <td>False</td>\n",
              "    </tr>\n",
              "    <tr>\n",
              "      <th>211221</th>\n",
              "      <td>False</td>\n",
              "    </tr>\n",
              "    <tr>\n",
              "      <th>211222</th>\n",
              "      <td>False</td>\n",
              "    </tr>\n",
              "    <tr>\n",
              "      <th>211223</th>\n",
              "      <td>False</td>\n",
              "    </tr>\n",
              "  </tbody>\n",
              "</table>\n",
              "<p>211224 rows × 1 columns</p>\n",
              "</div><br><label><b>dtype:</b> bool</label>"
            ]
          },
          "metadata": {},
          "execution_count": 73
        }
      ]
    },
    {
      "cell_type": "code",
      "source": [
        "df.shape"
      ],
      "metadata": {
        "colab": {
          "base_uri": "https://localhost:8080/"
        },
        "id": "HfoOZT7dYOsi",
        "outputId": "c8ca82de-f5f7-43a4-9f49-568b201cecd8"
      },
      "execution_count": 74,
      "outputs": [
        {
          "output_type": "execute_result",
          "data": {
            "text/plain": [
              "(211224, 18)"
            ]
          },
          "metadata": {},
          "execution_count": 74
        }
      ]
    },
    {
      "cell_type": "code",
      "source": [
        "# dropping irrelevant column\n",
        "cols_to_drop = ['Transaction Hash', 'Order ID', 'Trade ID', 'Timestamp']\n",
        "\n",
        "df.drop(columns=cols_to_drop, inplace=True)\n",
        "#df.head()"
      ],
      "metadata": {
        "id": "wr1g-j6JxPt1"
      },
      "execution_count": 75,
      "outputs": []
    },
    {
      "cell_type": "code",
      "source": [
        "# to Check basic data info and unique sentiments\n",
        "df.shape, df['classification'].unique()\n"
      ],
      "metadata": {
        "colab": {
          "base_uri": "https://localhost:8080/"
        },
        "id": "P0w3PLD2z4YH",
        "outputId": "aa32ccf9-e915-4d77-c0ca-95faa4e0c860"
      },
      "execution_count": 76,
      "outputs": [
        {
          "output_type": "execute_result",
          "data": {
            "text/plain": [
              "((211224, 14),\n",
              " array(['Extreme Greed', 'Extreme Fear', 'Fear', 'Greed', 'Neutral', nan],\n",
              "       dtype=object))"
            ]
          },
          "metadata": {},
          "execution_count": 76
        }
      ]
    },
    {
      "cell_type": "markdown",
      "source": [
        "Correlation Between Trade Size and Profit"
      ],
      "metadata": {
        "id": "2V65zbgjr1aw"
      }
    },
    {
      "cell_type": "code",
      "source": [
        "df[['Size USD', 'Closed PnL']].corr()"
      ],
      "metadata": {
        "colab": {
          "base_uri": "https://localhost:8080/",
          "height": 112
        },
        "id": "ukScLtgqrrNf",
        "outputId": "d22c0043-6ed3-4c60-a3fd-f53bd719cdcf"
      },
      "execution_count": 90,
      "outputs": [
        {
          "output_type": "execute_result",
          "data": {
            "text/plain": [
              "            Size USD  Closed PnL\n",
              "Size USD    1.000000    0.123589\n",
              "Closed PnL  0.123589    1.000000"
            ],
            "text/html": [
              "\n",
              "  <div id=\"df-662373a4-dc1c-4889-b567-e6ba475b1f9a\" class=\"colab-df-container\">\n",
              "    <div>\n",
              "<style scoped>\n",
              "    .dataframe tbody tr th:only-of-type {\n",
              "        vertical-align: middle;\n",
              "    }\n",
              "\n",
              "    .dataframe tbody tr th {\n",
              "        vertical-align: top;\n",
              "    }\n",
              "\n",
              "    .dataframe thead th {\n",
              "        text-align: right;\n",
              "    }\n",
              "</style>\n",
              "<table border=\"1\" class=\"dataframe\">\n",
              "  <thead>\n",
              "    <tr style=\"text-align: right;\">\n",
              "      <th></th>\n",
              "      <th>Size USD</th>\n",
              "      <th>Closed PnL</th>\n",
              "    </tr>\n",
              "  </thead>\n",
              "  <tbody>\n",
              "    <tr>\n",
              "      <th>Size USD</th>\n",
              "      <td>1.000000</td>\n",
              "      <td>0.123589</td>\n",
              "    </tr>\n",
              "    <tr>\n",
              "      <th>Closed PnL</th>\n",
              "      <td>0.123589</td>\n",
              "      <td>1.000000</td>\n",
              "    </tr>\n",
              "  </tbody>\n",
              "</table>\n",
              "</div>\n",
              "    <div class=\"colab-df-buttons\">\n",
              "\n",
              "  <div class=\"colab-df-container\">\n",
              "    <button class=\"colab-df-convert\" onclick=\"convertToInteractive('df-662373a4-dc1c-4889-b567-e6ba475b1f9a')\"\n",
              "            title=\"Convert this dataframe to an interactive table.\"\n",
              "            style=\"display:none;\">\n",
              "\n",
              "  <svg xmlns=\"http://www.w3.org/2000/svg\" height=\"24px\" viewBox=\"0 -960 960 960\">\n",
              "    <path d=\"M120-120v-720h720v720H120Zm60-500h600v-160H180v160Zm220 220h160v-160H400v160Zm0 220h160v-160H400v160ZM180-400h160v-160H180v160Zm440 0h160v-160H620v160ZM180-180h160v-160H180v160Zm440 0h160v-160H620v160Z\"/>\n",
              "  </svg>\n",
              "    </button>\n",
              "\n",
              "  <style>\n",
              "    .colab-df-container {\n",
              "      display:flex;\n",
              "      gap: 12px;\n",
              "    }\n",
              "\n",
              "    .colab-df-convert {\n",
              "      background-color: #E8F0FE;\n",
              "      border: none;\n",
              "      border-radius: 50%;\n",
              "      cursor: pointer;\n",
              "      display: none;\n",
              "      fill: #1967D2;\n",
              "      height: 32px;\n",
              "      padding: 0 0 0 0;\n",
              "      width: 32px;\n",
              "    }\n",
              "\n",
              "    .colab-df-convert:hover {\n",
              "      background-color: #E2EBFA;\n",
              "      box-shadow: 0px 1px 2px rgba(60, 64, 67, 0.3), 0px 1px 3px 1px rgba(60, 64, 67, 0.15);\n",
              "      fill: #174EA6;\n",
              "    }\n",
              "\n",
              "    .colab-df-buttons div {\n",
              "      margin-bottom: 4px;\n",
              "    }\n",
              "\n",
              "    [theme=dark] .colab-df-convert {\n",
              "      background-color: #3B4455;\n",
              "      fill: #D2E3FC;\n",
              "    }\n",
              "\n",
              "    [theme=dark] .colab-df-convert:hover {\n",
              "      background-color: #434B5C;\n",
              "      box-shadow: 0px 1px 3px 1px rgba(0, 0, 0, 0.15);\n",
              "      filter: drop-shadow(0px 1px 2px rgba(0, 0, 0, 0.3));\n",
              "      fill: #FFFFFF;\n",
              "    }\n",
              "  </style>\n",
              "\n",
              "    <script>\n",
              "      const buttonEl =\n",
              "        document.querySelector('#df-662373a4-dc1c-4889-b567-e6ba475b1f9a button.colab-df-convert');\n",
              "      buttonEl.style.display =\n",
              "        google.colab.kernel.accessAllowed ? 'block' : 'none';\n",
              "\n",
              "      async function convertToInteractive(key) {\n",
              "        const element = document.querySelector('#df-662373a4-dc1c-4889-b567-e6ba475b1f9a');\n",
              "        const dataTable =\n",
              "          await google.colab.kernel.invokeFunction('convertToInteractive',\n",
              "                                                    [key], {});\n",
              "        if (!dataTable) return;\n",
              "\n",
              "        const docLinkHtml = 'Like what you see? Visit the ' +\n",
              "          '<a target=\"_blank\" href=https://colab.research.google.com/notebooks/data_table.ipynb>data table notebook</a>'\n",
              "          + ' to learn more about interactive tables.';\n",
              "        element.innerHTML = '';\n",
              "        dataTable['output_type'] = 'display_data';\n",
              "        await google.colab.output.renderOutput(dataTable, element);\n",
              "        const docLink = document.createElement('div');\n",
              "        docLink.innerHTML = docLinkHtml;\n",
              "        element.appendChild(docLink);\n",
              "      }\n",
              "    </script>\n",
              "  </div>\n",
              "\n",
              "\n",
              "    <div id=\"df-367857a5-a388-44aa-baa7-0bc7cd1f51da\">\n",
              "      <button class=\"colab-df-quickchart\" onclick=\"quickchart('df-367857a5-a388-44aa-baa7-0bc7cd1f51da')\"\n",
              "                title=\"Suggest charts\"\n",
              "                style=\"display:none;\">\n",
              "\n",
              "<svg xmlns=\"http://www.w3.org/2000/svg\" height=\"24px\"viewBox=\"0 0 24 24\"\n",
              "     width=\"24px\">\n",
              "    <g>\n",
              "        <path d=\"M19 3H5c-1.1 0-2 .9-2 2v14c0 1.1.9 2 2 2h14c1.1 0 2-.9 2-2V5c0-1.1-.9-2-2-2zM9 17H7v-7h2v7zm4 0h-2V7h2v10zm4 0h-2v-4h2v4z\"/>\n",
              "    </g>\n",
              "</svg>\n",
              "      </button>\n",
              "\n",
              "<style>\n",
              "  .colab-df-quickchart {\n",
              "      --bg-color: #E8F0FE;\n",
              "      --fill-color: #1967D2;\n",
              "      --hover-bg-color: #E2EBFA;\n",
              "      --hover-fill-color: #174EA6;\n",
              "      --disabled-fill-color: #AAA;\n",
              "      --disabled-bg-color: #DDD;\n",
              "  }\n",
              "\n",
              "  [theme=dark] .colab-df-quickchart {\n",
              "      --bg-color: #3B4455;\n",
              "      --fill-color: #D2E3FC;\n",
              "      --hover-bg-color: #434B5C;\n",
              "      --hover-fill-color: #FFFFFF;\n",
              "      --disabled-bg-color: #3B4455;\n",
              "      --disabled-fill-color: #666;\n",
              "  }\n",
              "\n",
              "  .colab-df-quickchart {\n",
              "    background-color: var(--bg-color);\n",
              "    border: none;\n",
              "    border-radius: 50%;\n",
              "    cursor: pointer;\n",
              "    display: none;\n",
              "    fill: var(--fill-color);\n",
              "    height: 32px;\n",
              "    padding: 0;\n",
              "    width: 32px;\n",
              "  }\n",
              "\n",
              "  .colab-df-quickchart:hover {\n",
              "    background-color: var(--hover-bg-color);\n",
              "    box-shadow: 0 1px 2px rgba(60, 64, 67, 0.3), 0 1px 3px 1px rgba(60, 64, 67, 0.15);\n",
              "    fill: var(--button-hover-fill-color);\n",
              "  }\n",
              "\n",
              "  .colab-df-quickchart-complete:disabled,\n",
              "  .colab-df-quickchart-complete:disabled:hover {\n",
              "    background-color: var(--disabled-bg-color);\n",
              "    fill: var(--disabled-fill-color);\n",
              "    box-shadow: none;\n",
              "  }\n",
              "\n",
              "  .colab-df-spinner {\n",
              "    border: 2px solid var(--fill-color);\n",
              "    border-color: transparent;\n",
              "    border-bottom-color: var(--fill-color);\n",
              "    animation:\n",
              "      spin 1s steps(1) infinite;\n",
              "  }\n",
              "\n",
              "  @keyframes spin {\n",
              "    0% {\n",
              "      border-color: transparent;\n",
              "      border-bottom-color: var(--fill-color);\n",
              "      border-left-color: var(--fill-color);\n",
              "    }\n",
              "    20% {\n",
              "      border-color: transparent;\n",
              "      border-left-color: var(--fill-color);\n",
              "      border-top-color: var(--fill-color);\n",
              "    }\n",
              "    30% {\n",
              "      border-color: transparent;\n",
              "      border-left-color: var(--fill-color);\n",
              "      border-top-color: var(--fill-color);\n",
              "      border-right-color: var(--fill-color);\n",
              "    }\n",
              "    40% {\n",
              "      border-color: transparent;\n",
              "      border-right-color: var(--fill-color);\n",
              "      border-top-color: var(--fill-color);\n",
              "    }\n",
              "    60% {\n",
              "      border-color: transparent;\n",
              "      border-right-color: var(--fill-color);\n",
              "    }\n",
              "    80% {\n",
              "      border-color: transparent;\n",
              "      border-right-color: var(--fill-color);\n",
              "      border-bottom-color: var(--fill-color);\n",
              "    }\n",
              "    90% {\n",
              "      border-color: transparent;\n",
              "      border-bottom-color: var(--fill-color);\n",
              "    }\n",
              "  }\n",
              "</style>\n",
              "\n",
              "      <script>\n",
              "        async function quickchart(key) {\n",
              "          const quickchartButtonEl =\n",
              "            document.querySelector('#' + key + ' button');\n",
              "          quickchartButtonEl.disabled = true;  // To prevent multiple clicks.\n",
              "          quickchartButtonEl.classList.add('colab-df-spinner');\n",
              "          try {\n",
              "            const charts = await google.colab.kernel.invokeFunction(\n",
              "                'suggestCharts', [key], {});\n",
              "          } catch (error) {\n",
              "            console.error('Error during call to suggestCharts:', error);\n",
              "          }\n",
              "          quickchartButtonEl.classList.remove('colab-df-spinner');\n",
              "          quickchartButtonEl.classList.add('colab-df-quickchart-complete');\n",
              "        }\n",
              "        (() => {\n",
              "          let quickchartButtonEl =\n",
              "            document.querySelector('#df-367857a5-a388-44aa-baa7-0bc7cd1f51da button');\n",
              "          quickchartButtonEl.style.display =\n",
              "            google.colab.kernel.accessAllowed ? 'block' : 'none';\n",
              "        })();\n",
              "      </script>\n",
              "    </div>\n",
              "\n",
              "    </div>\n",
              "  </div>\n"
            ],
            "application/vnd.google.colaboratory.intrinsic+json": {
              "type": "dataframe",
              "summary": "{\n  \"name\": \"df[['Size USD', 'Closed PnL']]\",\n  \"rows\": 2,\n  \"fields\": [\n    {\n      \"column\": \"Size USD\",\n      \"properties\": {\n        \"dtype\": \"number\",\n        \"std\": 0.619715839390837,\n        \"min\": 0.12358945511605166,\n        \"max\": 1.0,\n        \"num_unique_values\": 2,\n        \"samples\": [\n          0.12358945511605166,\n          1.0\n        ],\n        \"semantic_type\": \"\",\n        \"description\": \"\"\n      }\n    },\n    {\n      \"column\": \"Closed PnL\",\n      \"properties\": {\n        \"dtype\": \"number\",\n        \"std\": 0.619715839390837,\n        \"min\": 0.12358945511605166,\n        \"max\": 1.0,\n        \"num_unique_values\": 2,\n        \"samples\": [\n          1.0,\n          0.12358945511605166\n        ],\n        \"semantic_type\": \"\",\n        \"description\": \"\"\n      }\n    }\n  ]\n}"
            }
          },
          "metadata": {},
          "execution_count": 90
        }
      ]
    },
    {
      "cell_type": "code",
      "source": [
        "#Number of Unique Traders (Accounts)\n",
        "df['Account'].nunique()"
      ],
      "metadata": {
        "colab": {
          "base_uri": "https://localhost:8080/"
        },
        "id": "0Vb_QjI8rV3N",
        "outputId": "e4597301-4035-47d4-ee42-c4aaa6796441"
      },
      "execution_count": 89,
      "outputs": [
        {
          "output_type": "execute_result",
          "data": {
            "text/plain": [
              "32"
            ]
          },
          "metadata": {},
          "execution_count": 89
        }
      ]
    },
    {
      "cell_type": "code",
      "source": [
        "# Top 5 most active trading days\n",
        "df['date'].value_counts().head(5)"
      ],
      "metadata": {
        "colab": {
          "base_uri": "https://localhost:8080/",
          "height": 272
        },
        "id": "Kuv0zjJrsKcu",
        "outputId": "b4f1204d-4d2d-4600-c0ad-ffc911dda6b5"
      },
      "execution_count": 93,
      "outputs": [
        {
          "output_type": "execute_result",
          "data": {
            "text/plain": [
              "date\n",
              "2025-02-25    6246\n",
              "2025-04-23    6159\n",
              "2025-02-24    5616\n",
              "2025-03-12    3968\n",
              "2025-04-09    3967\n",
              "Name: count, dtype: int64"
            ],
            "text/html": [
              "<div>\n",
              "<style scoped>\n",
              "    .dataframe tbody tr th:only-of-type {\n",
              "        vertical-align: middle;\n",
              "    }\n",
              "\n",
              "    .dataframe tbody tr th {\n",
              "        vertical-align: top;\n",
              "    }\n",
              "\n",
              "    .dataframe thead th {\n",
              "        text-align: right;\n",
              "    }\n",
              "</style>\n",
              "<table border=\"1\" class=\"dataframe\">\n",
              "  <thead>\n",
              "    <tr style=\"text-align: right;\">\n",
              "      <th></th>\n",
              "      <th>count</th>\n",
              "    </tr>\n",
              "    <tr>\n",
              "      <th>date</th>\n",
              "      <th></th>\n",
              "    </tr>\n",
              "  </thead>\n",
              "  <tbody>\n",
              "    <tr>\n",
              "      <th>2025-02-25</th>\n",
              "      <td>6246</td>\n",
              "    </tr>\n",
              "    <tr>\n",
              "      <th>2025-04-23</th>\n",
              "      <td>6159</td>\n",
              "    </tr>\n",
              "    <tr>\n",
              "      <th>2025-02-24</th>\n",
              "      <td>5616</td>\n",
              "    </tr>\n",
              "    <tr>\n",
              "      <th>2025-03-12</th>\n",
              "      <td>3968</td>\n",
              "    </tr>\n",
              "    <tr>\n",
              "      <th>2025-04-09</th>\n",
              "      <td>3967</td>\n",
              "    </tr>\n",
              "  </tbody>\n",
              "</table>\n",
              "</div><br><label><b>dtype:</b> int64</label>"
            ]
          },
          "metadata": {},
          "execution_count": 93
        }
      ]
    },
    {
      "cell_type": "code",
      "source": [
        "#Top 5 Highest Profit Trades\n",
        "df.sort_values(by='Closed PnL', ascending=False).head(5)"
      ],
      "metadata": {
        "colab": {
          "base_uri": "https://localhost:8080/",
          "height": 417
        },
        "id": "MH2LxFQisVbO",
        "outputId": "e3966764-8d2f-4200-ef4b-8334f56d13db"
      },
      "execution_count": 92,
      "outputs": [
        {
          "output_type": "execute_result",
          "data": {
            "text/plain": [
              "                                           Account Coin  Execution Price  \\\n",
              "18045   0x083384f897ee0f19899168e3b1bec365f52a9012  ETH           1570.1   \n",
              "17270   0x083384f897ee0f19899168e3b1bec365f52a9012  ETH           2284.0   \n",
              "18043   0x083384f897ee0f19899168e3b1bec365f52a9012  ETH           1570.1   \n",
              "210024  0x72743ae2822edd658c0c50608fd7c5c501b2afbd  ETH           3354.0   \n",
              "18024   0x083384f897ee0f19899168e3b1bec365f52a9012  ETH           1570.1   \n",
              "\n",
              "        Size Tokens   Size USD Side       Timestamp IST  Start Position  \\\n",
              "18045      186.5296  292870.12  BUY 2025-04-12 12:31:00       -203.3554   \n",
              "17270      300.0000  685200.00  BUY 2025-02-28 01:02:00      -1300.0000   \n",
              "18043      108.4516  170279.86  BUY 2025-04-12 12:31:00       -311.8148   \n",
              "210024     274.7973  921670.14  BUY 2025-01-08 19:42:00       -274.7973   \n",
              "18024       99.7612  156635.06  BUY 2025-04-12 12:22:00       -417.5139   \n",
              "\n",
              "          Direction    Closed PnL  Crossed        Fee        date  \\\n",
              "18045   Close Short  135329.09010    False  29.287012  2025-04-12   \n",
              "17270   Close Short  115287.00000    False  68.520000  2025-02-28   \n",
              "18043   Close Short   78682.72032    False  17.027985  2025-04-12   \n",
              "210024  Close Short   74530.52371    False  92.167014  2025-01-08   \n",
              "18024   Close Short   72377.74821    False  15.663506  2025-04-12   \n",
              "\n",
              "       classification  \n",
              "18045            Fear  \n",
              "17270    Extreme Fear  \n",
              "18043            Fear  \n",
              "210024          Greed  \n",
              "18024            Fear  "
            ],
            "text/html": [
              "\n",
              "  <div id=\"df-139da283-50f9-4141-ae73-6e72fa672851\" class=\"colab-df-container\">\n",
              "    <div>\n",
              "<style scoped>\n",
              "    .dataframe tbody tr th:only-of-type {\n",
              "        vertical-align: middle;\n",
              "    }\n",
              "\n",
              "    .dataframe tbody tr th {\n",
              "        vertical-align: top;\n",
              "    }\n",
              "\n",
              "    .dataframe thead th {\n",
              "        text-align: right;\n",
              "    }\n",
              "</style>\n",
              "<table border=\"1\" class=\"dataframe\">\n",
              "  <thead>\n",
              "    <tr style=\"text-align: right;\">\n",
              "      <th></th>\n",
              "      <th>Account</th>\n",
              "      <th>Coin</th>\n",
              "      <th>Execution Price</th>\n",
              "      <th>Size Tokens</th>\n",
              "      <th>Size USD</th>\n",
              "      <th>Side</th>\n",
              "      <th>Timestamp IST</th>\n",
              "      <th>Start Position</th>\n",
              "      <th>Direction</th>\n",
              "      <th>Closed PnL</th>\n",
              "      <th>Crossed</th>\n",
              "      <th>Fee</th>\n",
              "      <th>date</th>\n",
              "      <th>classification</th>\n",
              "    </tr>\n",
              "  </thead>\n",
              "  <tbody>\n",
              "    <tr>\n",
              "      <th>18045</th>\n",
              "      <td>0x083384f897ee0f19899168e3b1bec365f52a9012</td>\n",
              "      <td>ETH</td>\n",
              "      <td>1570.1</td>\n",
              "      <td>186.5296</td>\n",
              "      <td>292870.12</td>\n",
              "      <td>BUY</td>\n",
              "      <td>2025-04-12 12:31:00</td>\n",
              "      <td>-203.3554</td>\n",
              "      <td>Close Short</td>\n",
              "      <td>135329.09010</td>\n",
              "      <td>False</td>\n",
              "      <td>29.287012</td>\n",
              "      <td>2025-04-12</td>\n",
              "      <td>Fear</td>\n",
              "    </tr>\n",
              "    <tr>\n",
              "      <th>17270</th>\n",
              "      <td>0x083384f897ee0f19899168e3b1bec365f52a9012</td>\n",
              "      <td>ETH</td>\n",
              "      <td>2284.0</td>\n",
              "      <td>300.0000</td>\n",
              "      <td>685200.00</td>\n",
              "      <td>BUY</td>\n",
              "      <td>2025-02-28 01:02:00</td>\n",
              "      <td>-1300.0000</td>\n",
              "      <td>Close Short</td>\n",
              "      <td>115287.00000</td>\n",
              "      <td>False</td>\n",
              "      <td>68.520000</td>\n",
              "      <td>2025-02-28</td>\n",
              "      <td>Extreme Fear</td>\n",
              "    </tr>\n",
              "    <tr>\n",
              "      <th>18043</th>\n",
              "      <td>0x083384f897ee0f19899168e3b1bec365f52a9012</td>\n",
              "      <td>ETH</td>\n",
              "      <td>1570.1</td>\n",
              "      <td>108.4516</td>\n",
              "      <td>170279.86</td>\n",
              "      <td>BUY</td>\n",
              "      <td>2025-04-12 12:31:00</td>\n",
              "      <td>-311.8148</td>\n",
              "      <td>Close Short</td>\n",
              "      <td>78682.72032</td>\n",
              "      <td>False</td>\n",
              "      <td>17.027985</td>\n",
              "      <td>2025-04-12</td>\n",
              "      <td>Fear</td>\n",
              "    </tr>\n",
              "    <tr>\n",
              "      <th>210024</th>\n",
              "      <td>0x72743ae2822edd658c0c50608fd7c5c501b2afbd</td>\n",
              "      <td>ETH</td>\n",
              "      <td>3354.0</td>\n",
              "      <td>274.7973</td>\n",
              "      <td>921670.14</td>\n",
              "      <td>BUY</td>\n",
              "      <td>2025-01-08 19:42:00</td>\n",
              "      <td>-274.7973</td>\n",
              "      <td>Close Short</td>\n",
              "      <td>74530.52371</td>\n",
              "      <td>False</td>\n",
              "      <td>92.167014</td>\n",
              "      <td>2025-01-08</td>\n",
              "      <td>Greed</td>\n",
              "    </tr>\n",
              "    <tr>\n",
              "      <th>18024</th>\n",
              "      <td>0x083384f897ee0f19899168e3b1bec365f52a9012</td>\n",
              "      <td>ETH</td>\n",
              "      <td>1570.1</td>\n",
              "      <td>99.7612</td>\n",
              "      <td>156635.06</td>\n",
              "      <td>BUY</td>\n",
              "      <td>2025-04-12 12:22:00</td>\n",
              "      <td>-417.5139</td>\n",
              "      <td>Close Short</td>\n",
              "      <td>72377.74821</td>\n",
              "      <td>False</td>\n",
              "      <td>15.663506</td>\n",
              "      <td>2025-04-12</td>\n",
              "      <td>Fear</td>\n",
              "    </tr>\n",
              "  </tbody>\n",
              "</table>\n",
              "</div>\n",
              "    <div class=\"colab-df-buttons\">\n",
              "\n",
              "  <div class=\"colab-df-container\">\n",
              "    <button class=\"colab-df-convert\" onclick=\"convertToInteractive('df-139da283-50f9-4141-ae73-6e72fa672851')\"\n",
              "            title=\"Convert this dataframe to an interactive table.\"\n",
              "            style=\"display:none;\">\n",
              "\n",
              "  <svg xmlns=\"http://www.w3.org/2000/svg\" height=\"24px\" viewBox=\"0 -960 960 960\">\n",
              "    <path d=\"M120-120v-720h720v720H120Zm60-500h600v-160H180v160Zm220 220h160v-160H400v160Zm0 220h160v-160H400v160ZM180-400h160v-160H180v160Zm440 0h160v-160H620v160ZM180-180h160v-160H180v160Zm440 0h160v-160H620v160Z\"/>\n",
              "  </svg>\n",
              "    </button>\n",
              "\n",
              "  <style>\n",
              "    .colab-df-container {\n",
              "      display:flex;\n",
              "      gap: 12px;\n",
              "    }\n",
              "\n",
              "    .colab-df-convert {\n",
              "      background-color: #E8F0FE;\n",
              "      border: none;\n",
              "      border-radius: 50%;\n",
              "      cursor: pointer;\n",
              "      display: none;\n",
              "      fill: #1967D2;\n",
              "      height: 32px;\n",
              "      padding: 0 0 0 0;\n",
              "      width: 32px;\n",
              "    }\n",
              "\n",
              "    .colab-df-convert:hover {\n",
              "      background-color: #E2EBFA;\n",
              "      box-shadow: 0px 1px 2px rgba(60, 64, 67, 0.3), 0px 1px 3px 1px rgba(60, 64, 67, 0.15);\n",
              "      fill: #174EA6;\n",
              "    }\n",
              "\n",
              "    .colab-df-buttons div {\n",
              "      margin-bottom: 4px;\n",
              "    }\n",
              "\n",
              "    [theme=dark] .colab-df-convert {\n",
              "      background-color: #3B4455;\n",
              "      fill: #D2E3FC;\n",
              "    }\n",
              "\n",
              "    [theme=dark] .colab-df-convert:hover {\n",
              "      background-color: #434B5C;\n",
              "      box-shadow: 0px 1px 3px 1px rgba(0, 0, 0, 0.15);\n",
              "      filter: drop-shadow(0px 1px 2px rgba(0, 0, 0, 0.3));\n",
              "      fill: #FFFFFF;\n",
              "    }\n",
              "  </style>\n",
              "\n",
              "    <script>\n",
              "      const buttonEl =\n",
              "        document.querySelector('#df-139da283-50f9-4141-ae73-6e72fa672851 button.colab-df-convert');\n",
              "      buttonEl.style.display =\n",
              "        google.colab.kernel.accessAllowed ? 'block' : 'none';\n",
              "\n",
              "      async function convertToInteractive(key) {\n",
              "        const element = document.querySelector('#df-139da283-50f9-4141-ae73-6e72fa672851');\n",
              "        const dataTable =\n",
              "          await google.colab.kernel.invokeFunction('convertToInteractive',\n",
              "                                                    [key], {});\n",
              "        if (!dataTable) return;\n",
              "\n",
              "        const docLinkHtml = 'Like what you see? Visit the ' +\n",
              "          '<a target=\"_blank\" href=https://colab.research.google.com/notebooks/data_table.ipynb>data table notebook</a>'\n",
              "          + ' to learn more about interactive tables.';\n",
              "        element.innerHTML = '';\n",
              "        dataTable['output_type'] = 'display_data';\n",
              "        await google.colab.output.renderOutput(dataTable, element);\n",
              "        const docLink = document.createElement('div');\n",
              "        docLink.innerHTML = docLinkHtml;\n",
              "        element.appendChild(docLink);\n",
              "      }\n",
              "    </script>\n",
              "  </div>\n",
              "\n",
              "\n",
              "    <div id=\"df-10911a86-5d72-4c63-834e-63048fb7b75d\">\n",
              "      <button class=\"colab-df-quickchart\" onclick=\"quickchart('df-10911a86-5d72-4c63-834e-63048fb7b75d')\"\n",
              "                title=\"Suggest charts\"\n",
              "                style=\"display:none;\">\n",
              "\n",
              "<svg xmlns=\"http://www.w3.org/2000/svg\" height=\"24px\"viewBox=\"0 0 24 24\"\n",
              "     width=\"24px\">\n",
              "    <g>\n",
              "        <path d=\"M19 3H5c-1.1 0-2 .9-2 2v14c0 1.1.9 2 2 2h14c1.1 0 2-.9 2-2V5c0-1.1-.9-2-2-2zM9 17H7v-7h2v7zm4 0h-2V7h2v10zm4 0h-2v-4h2v4z\"/>\n",
              "    </g>\n",
              "</svg>\n",
              "      </button>\n",
              "\n",
              "<style>\n",
              "  .colab-df-quickchart {\n",
              "      --bg-color: #E8F0FE;\n",
              "      --fill-color: #1967D2;\n",
              "      --hover-bg-color: #E2EBFA;\n",
              "      --hover-fill-color: #174EA6;\n",
              "      --disabled-fill-color: #AAA;\n",
              "      --disabled-bg-color: #DDD;\n",
              "  }\n",
              "\n",
              "  [theme=dark] .colab-df-quickchart {\n",
              "      --bg-color: #3B4455;\n",
              "      --fill-color: #D2E3FC;\n",
              "      --hover-bg-color: #434B5C;\n",
              "      --hover-fill-color: #FFFFFF;\n",
              "      --disabled-bg-color: #3B4455;\n",
              "      --disabled-fill-color: #666;\n",
              "  }\n",
              "\n",
              "  .colab-df-quickchart {\n",
              "    background-color: var(--bg-color);\n",
              "    border: none;\n",
              "    border-radius: 50%;\n",
              "    cursor: pointer;\n",
              "    display: none;\n",
              "    fill: var(--fill-color);\n",
              "    height: 32px;\n",
              "    padding: 0;\n",
              "    width: 32px;\n",
              "  }\n",
              "\n",
              "  .colab-df-quickchart:hover {\n",
              "    background-color: var(--hover-bg-color);\n",
              "    box-shadow: 0 1px 2px rgba(60, 64, 67, 0.3), 0 1px 3px 1px rgba(60, 64, 67, 0.15);\n",
              "    fill: var(--button-hover-fill-color);\n",
              "  }\n",
              "\n",
              "  .colab-df-quickchart-complete:disabled,\n",
              "  .colab-df-quickchart-complete:disabled:hover {\n",
              "    background-color: var(--disabled-bg-color);\n",
              "    fill: var(--disabled-fill-color);\n",
              "    box-shadow: none;\n",
              "  }\n",
              "\n",
              "  .colab-df-spinner {\n",
              "    border: 2px solid var(--fill-color);\n",
              "    border-color: transparent;\n",
              "    border-bottom-color: var(--fill-color);\n",
              "    animation:\n",
              "      spin 1s steps(1) infinite;\n",
              "  }\n",
              "\n",
              "  @keyframes spin {\n",
              "    0% {\n",
              "      border-color: transparent;\n",
              "      border-bottom-color: var(--fill-color);\n",
              "      border-left-color: var(--fill-color);\n",
              "    }\n",
              "    20% {\n",
              "      border-color: transparent;\n",
              "      border-left-color: var(--fill-color);\n",
              "      border-top-color: var(--fill-color);\n",
              "    }\n",
              "    30% {\n",
              "      border-color: transparent;\n",
              "      border-left-color: var(--fill-color);\n",
              "      border-top-color: var(--fill-color);\n",
              "      border-right-color: var(--fill-color);\n",
              "    }\n",
              "    40% {\n",
              "      border-color: transparent;\n",
              "      border-right-color: var(--fill-color);\n",
              "      border-top-color: var(--fill-color);\n",
              "    }\n",
              "    60% {\n",
              "      border-color: transparent;\n",
              "      border-right-color: var(--fill-color);\n",
              "    }\n",
              "    80% {\n",
              "      border-color: transparent;\n",
              "      border-right-color: var(--fill-color);\n",
              "      border-bottom-color: var(--fill-color);\n",
              "    }\n",
              "    90% {\n",
              "      border-color: transparent;\n",
              "      border-bottom-color: var(--fill-color);\n",
              "    }\n",
              "  }\n",
              "</style>\n",
              "\n",
              "      <script>\n",
              "        async function quickchart(key) {\n",
              "          const quickchartButtonEl =\n",
              "            document.querySelector('#' + key + ' button');\n",
              "          quickchartButtonEl.disabled = true;  // To prevent multiple clicks.\n",
              "          quickchartButtonEl.classList.add('colab-df-spinner');\n",
              "          try {\n",
              "            const charts = await google.colab.kernel.invokeFunction(\n",
              "                'suggestCharts', [key], {});\n",
              "          } catch (error) {\n",
              "            console.error('Error during call to suggestCharts:', error);\n",
              "          }\n",
              "          quickchartButtonEl.classList.remove('colab-df-spinner');\n",
              "          quickchartButtonEl.classList.add('colab-df-quickchart-complete');\n",
              "        }\n",
              "        (() => {\n",
              "          let quickchartButtonEl =\n",
              "            document.querySelector('#df-10911a86-5d72-4c63-834e-63048fb7b75d button');\n",
              "          quickchartButtonEl.style.display =\n",
              "            google.colab.kernel.accessAllowed ? 'block' : 'none';\n",
              "        })();\n",
              "      </script>\n",
              "    </div>\n",
              "\n",
              "    </div>\n",
              "  </div>\n"
            ],
            "application/vnd.google.colaboratory.intrinsic+json": {
              "type": "dataframe",
              "repr_error": "0"
            }
          },
          "metadata": {},
          "execution_count": 92
        }
      ]
    },
    {
      "cell_type": "code",
      "source": [
        "# Count of days per sentiment\n",
        "df.groupby('classification')['date'].nunique()"
      ],
      "metadata": {
        "colab": {
          "base_uri": "https://localhost:8080/",
          "height": 272
        },
        "id": "TbvjBnORsyWe",
        "outputId": "8daa4e5b-27d0-4c39-f32e-993e784c2d36"
      },
      "execution_count": 94,
      "outputs": [
        {
          "output_type": "execute_result",
          "data": {
            "text/plain": [
              "classification\n",
              "Extreme Fear      14\n",
              "Extreme Greed    114\n",
              "Fear              91\n",
              "Greed            193\n",
              "Neutral           67\n",
              "Name: date, dtype: int64"
            ],
            "text/html": [
              "<div>\n",
              "<style scoped>\n",
              "    .dataframe tbody tr th:only-of-type {\n",
              "        vertical-align: middle;\n",
              "    }\n",
              "\n",
              "    .dataframe tbody tr th {\n",
              "        vertical-align: top;\n",
              "    }\n",
              "\n",
              "    .dataframe thead th {\n",
              "        text-align: right;\n",
              "    }\n",
              "</style>\n",
              "<table border=\"1\" class=\"dataframe\">\n",
              "  <thead>\n",
              "    <tr style=\"text-align: right;\">\n",
              "      <th></th>\n",
              "      <th>date</th>\n",
              "    </tr>\n",
              "    <tr>\n",
              "      <th>classification</th>\n",
              "      <th></th>\n",
              "    </tr>\n",
              "  </thead>\n",
              "  <tbody>\n",
              "    <tr>\n",
              "      <th>Extreme Fear</th>\n",
              "      <td>14</td>\n",
              "    </tr>\n",
              "    <tr>\n",
              "      <th>Extreme Greed</th>\n",
              "      <td>114</td>\n",
              "    </tr>\n",
              "    <tr>\n",
              "      <th>Fear</th>\n",
              "      <td>91</td>\n",
              "    </tr>\n",
              "    <tr>\n",
              "      <th>Greed</th>\n",
              "      <td>193</td>\n",
              "    </tr>\n",
              "    <tr>\n",
              "      <th>Neutral</th>\n",
              "      <td>67</td>\n",
              "    </tr>\n",
              "  </tbody>\n",
              "</table>\n",
              "</div><br><label><b>dtype:</b> int64</label>"
            ]
          },
          "metadata": {},
          "execution_count": 94
        }
      ]
    },
    {
      "cell_type": "code",
      "source": [
        "## to Understand cost of trading on different emotional day\n",
        "df.groupby('classification')['Fee'].mean()"
      ],
      "metadata": {
        "colab": {
          "base_uri": "https://localhost:8080/",
          "height": 272
        },
        "id": "yKW_5NX1g0bJ",
        "outputId": "3c298c0a-34ec-4650-ca69-4e20707417d9"
      },
      "execution_count": 77,
      "outputs": [
        {
          "output_type": "execute_result",
          "data": {
            "text/plain": [
              "classification\n",
              "Extreme Fear     1.116291\n",
              "Extreme Greed    0.675902\n",
              "Fear             1.495172\n",
              "Greed            1.254372\n",
              "Neutral          1.044798\n",
              "Name: Fee, dtype: float64"
            ],
            "text/html": [
              "<div>\n",
              "<style scoped>\n",
              "    .dataframe tbody tr th:only-of-type {\n",
              "        vertical-align: middle;\n",
              "    }\n",
              "\n",
              "    .dataframe tbody tr th {\n",
              "        vertical-align: top;\n",
              "    }\n",
              "\n",
              "    .dataframe thead th {\n",
              "        text-align: right;\n",
              "    }\n",
              "</style>\n",
              "<table border=\"1\" class=\"dataframe\">\n",
              "  <thead>\n",
              "    <tr style=\"text-align: right;\">\n",
              "      <th></th>\n",
              "      <th>Fee</th>\n",
              "    </tr>\n",
              "    <tr>\n",
              "      <th>classification</th>\n",
              "      <th></th>\n",
              "    </tr>\n",
              "  </thead>\n",
              "  <tbody>\n",
              "    <tr>\n",
              "      <th>Extreme Fear</th>\n",
              "      <td>1.116291</td>\n",
              "    </tr>\n",
              "    <tr>\n",
              "      <th>Extreme Greed</th>\n",
              "      <td>0.675902</td>\n",
              "    </tr>\n",
              "    <tr>\n",
              "      <th>Fear</th>\n",
              "      <td>1.495172</td>\n",
              "    </tr>\n",
              "    <tr>\n",
              "      <th>Greed</th>\n",
              "      <td>1.254372</td>\n",
              "    </tr>\n",
              "    <tr>\n",
              "      <th>Neutral</th>\n",
              "      <td>1.044798</td>\n",
              "    </tr>\n",
              "  </tbody>\n",
              "</table>\n",
              "</div><br><label><b>dtype:</b> float64</label>"
            ]
          },
          "metadata": {},
          "execution_count": 77
        }
      ]
    },
    {
      "cell_type": "markdown",
      "source": [
        "Buy vs Sell Across Sentiments"
      ],
      "metadata": {
        "id": "w_jwQdGnjQxG"
      }
    },
    {
      "cell_type": "code",
      "source": [
        "df.groupby('classification')['Direction'].value_counts()\n",
        "#Shows whether traders mostly Buy or Sell under each market mood."
      ],
      "metadata": {
        "colab": {
          "base_uri": "https://localhost:8080/",
          "height": 1000
        },
        "id": "edDI9-NNab-e",
        "outputId": "7e2d5908-5815-4186-b6a4-e0790416ca13"
      },
      "execution_count": 78,
      "outputs": [
        {
          "output_type": "execute_result",
          "data": {
            "text/plain": [
              "classification  Direction                \n",
              "Extreme Fear    Open Long                     7005\n",
              "                Close Long                    6241\n",
              "                Open Short                    3174\n",
              "                Close Short                   3117\n",
              "                Sell                          1042\n",
              "                Buy                            807\n",
              "                Short > Long                     6\n",
              "                Long > Short                     5\n",
              "                Spot Dust Conversion             3\n",
              "Extreme Greed   Open Short                    7663\n",
              "                Close Long                    7186\n",
              "                Sell                          7164\n",
              "                Close Short                   6497\n",
              "                Open Long                     6300\n",
              "                Buy                           5132\n",
              "                Spot Dust Conversion            32\n",
              "                Short > Long                    11\n",
              "                Long > Short                     7\n",
              "Fear            Open Long                    17824\n",
              "                Close Long                   17260\n",
              "                Open Short                   10887\n",
              "                Close Short                   9221\n",
              "                Sell                          3364\n",
              "                Buy                           3207\n",
              "                Spot Dust Conversion            42\n",
              "                Short > Long                    18\n",
              "                Long > Short                    14\n",
              "Greed           Open Short                   11664\n",
              "                Close Short                  11322\n",
              "                Open Long                     8544\n",
              "                Close Long                    7998\n",
              "                Sell                          5986\n",
              "                Buy                           4685\n",
              "                Spot Dust Conversion            55\n",
              "                Short > Long                    23\n",
              "                Long > Short                    16\n",
              "                Auto-Deleveraging                8\n",
              "                Liquidated Isolated Short        1\n",
              "                Settlement                       1\n",
              "Neutral         Open Long                    10222\n",
              "                Close Long                    9993\n",
              "                Open Short                    6353\n",
              "                Close Short                   5850\n",
              "                Buy                           2885\n",
              "                Sell                          2346\n",
              "                Long > Short                    15\n",
              "                Short > Long                    12\n",
              "                Spot Dust Conversion            10\n",
              "Name: count, dtype: int64"
            ],
            "text/html": [
              "<div>\n",
              "<style scoped>\n",
              "    .dataframe tbody tr th:only-of-type {\n",
              "        vertical-align: middle;\n",
              "    }\n",
              "\n",
              "    .dataframe tbody tr th {\n",
              "        vertical-align: top;\n",
              "    }\n",
              "\n",
              "    .dataframe thead th {\n",
              "        text-align: right;\n",
              "    }\n",
              "</style>\n",
              "<table border=\"1\" class=\"dataframe\">\n",
              "  <thead>\n",
              "    <tr style=\"text-align: right;\">\n",
              "      <th></th>\n",
              "      <th></th>\n",
              "      <th>count</th>\n",
              "    </tr>\n",
              "    <tr>\n",
              "      <th>classification</th>\n",
              "      <th>Direction</th>\n",
              "      <th></th>\n",
              "    </tr>\n",
              "  </thead>\n",
              "  <tbody>\n",
              "    <tr>\n",
              "      <th rowspan=\"9\" valign=\"top\">Extreme Fear</th>\n",
              "      <th>Open Long</th>\n",
              "      <td>7005</td>\n",
              "    </tr>\n",
              "    <tr>\n",
              "      <th>Close Long</th>\n",
              "      <td>6241</td>\n",
              "    </tr>\n",
              "    <tr>\n",
              "      <th>Open Short</th>\n",
              "      <td>3174</td>\n",
              "    </tr>\n",
              "    <tr>\n",
              "      <th>Close Short</th>\n",
              "      <td>3117</td>\n",
              "    </tr>\n",
              "    <tr>\n",
              "      <th>Sell</th>\n",
              "      <td>1042</td>\n",
              "    </tr>\n",
              "    <tr>\n",
              "      <th>Buy</th>\n",
              "      <td>807</td>\n",
              "    </tr>\n",
              "    <tr>\n",
              "      <th>Short &gt; Long</th>\n",
              "      <td>6</td>\n",
              "    </tr>\n",
              "    <tr>\n",
              "      <th>Long &gt; Short</th>\n",
              "      <td>5</td>\n",
              "    </tr>\n",
              "    <tr>\n",
              "      <th>Spot Dust Conversion</th>\n",
              "      <td>3</td>\n",
              "    </tr>\n",
              "    <tr>\n",
              "      <th rowspan=\"9\" valign=\"top\">Extreme Greed</th>\n",
              "      <th>Open Short</th>\n",
              "      <td>7663</td>\n",
              "    </tr>\n",
              "    <tr>\n",
              "      <th>Close Long</th>\n",
              "      <td>7186</td>\n",
              "    </tr>\n",
              "    <tr>\n",
              "      <th>Sell</th>\n",
              "      <td>7164</td>\n",
              "    </tr>\n",
              "    <tr>\n",
              "      <th>Close Short</th>\n",
              "      <td>6497</td>\n",
              "    </tr>\n",
              "    <tr>\n",
              "      <th>Open Long</th>\n",
              "      <td>6300</td>\n",
              "    </tr>\n",
              "    <tr>\n",
              "      <th>Buy</th>\n",
              "      <td>5132</td>\n",
              "    </tr>\n",
              "    <tr>\n",
              "      <th>Spot Dust Conversion</th>\n",
              "      <td>32</td>\n",
              "    </tr>\n",
              "    <tr>\n",
              "      <th>Short &gt; Long</th>\n",
              "      <td>11</td>\n",
              "    </tr>\n",
              "    <tr>\n",
              "      <th>Long &gt; Short</th>\n",
              "      <td>7</td>\n",
              "    </tr>\n",
              "    <tr>\n",
              "      <th rowspan=\"9\" valign=\"top\">Fear</th>\n",
              "      <th>Open Long</th>\n",
              "      <td>17824</td>\n",
              "    </tr>\n",
              "    <tr>\n",
              "      <th>Close Long</th>\n",
              "      <td>17260</td>\n",
              "    </tr>\n",
              "    <tr>\n",
              "      <th>Open Short</th>\n",
              "      <td>10887</td>\n",
              "    </tr>\n",
              "    <tr>\n",
              "      <th>Close Short</th>\n",
              "      <td>9221</td>\n",
              "    </tr>\n",
              "    <tr>\n",
              "      <th>Sell</th>\n",
              "      <td>3364</td>\n",
              "    </tr>\n",
              "    <tr>\n",
              "      <th>Buy</th>\n",
              "      <td>3207</td>\n",
              "    </tr>\n",
              "    <tr>\n",
              "      <th>Spot Dust Conversion</th>\n",
              "      <td>42</td>\n",
              "    </tr>\n",
              "    <tr>\n",
              "      <th>Short &gt; Long</th>\n",
              "      <td>18</td>\n",
              "    </tr>\n",
              "    <tr>\n",
              "      <th>Long &gt; Short</th>\n",
              "      <td>14</td>\n",
              "    </tr>\n",
              "    <tr>\n",
              "      <th rowspan=\"12\" valign=\"top\">Greed</th>\n",
              "      <th>Open Short</th>\n",
              "      <td>11664</td>\n",
              "    </tr>\n",
              "    <tr>\n",
              "      <th>Close Short</th>\n",
              "      <td>11322</td>\n",
              "    </tr>\n",
              "    <tr>\n",
              "      <th>Open Long</th>\n",
              "      <td>8544</td>\n",
              "    </tr>\n",
              "    <tr>\n",
              "      <th>Close Long</th>\n",
              "      <td>7998</td>\n",
              "    </tr>\n",
              "    <tr>\n",
              "      <th>Sell</th>\n",
              "      <td>5986</td>\n",
              "    </tr>\n",
              "    <tr>\n",
              "      <th>Buy</th>\n",
              "      <td>4685</td>\n",
              "    </tr>\n",
              "    <tr>\n",
              "      <th>Spot Dust Conversion</th>\n",
              "      <td>55</td>\n",
              "    </tr>\n",
              "    <tr>\n",
              "      <th>Short &gt; Long</th>\n",
              "      <td>23</td>\n",
              "    </tr>\n",
              "    <tr>\n",
              "      <th>Long &gt; Short</th>\n",
              "      <td>16</td>\n",
              "    </tr>\n",
              "    <tr>\n",
              "      <th>Auto-Deleveraging</th>\n",
              "      <td>8</td>\n",
              "    </tr>\n",
              "    <tr>\n",
              "      <th>Liquidated Isolated Short</th>\n",
              "      <td>1</td>\n",
              "    </tr>\n",
              "    <tr>\n",
              "      <th>Settlement</th>\n",
              "      <td>1</td>\n",
              "    </tr>\n",
              "    <tr>\n",
              "      <th rowspan=\"9\" valign=\"top\">Neutral</th>\n",
              "      <th>Open Long</th>\n",
              "      <td>10222</td>\n",
              "    </tr>\n",
              "    <tr>\n",
              "      <th>Close Long</th>\n",
              "      <td>9993</td>\n",
              "    </tr>\n",
              "    <tr>\n",
              "      <th>Open Short</th>\n",
              "      <td>6353</td>\n",
              "    </tr>\n",
              "    <tr>\n",
              "      <th>Close Short</th>\n",
              "      <td>5850</td>\n",
              "    </tr>\n",
              "    <tr>\n",
              "      <th>Buy</th>\n",
              "      <td>2885</td>\n",
              "    </tr>\n",
              "    <tr>\n",
              "      <th>Sell</th>\n",
              "      <td>2346</td>\n",
              "    </tr>\n",
              "    <tr>\n",
              "      <th>Long &gt; Short</th>\n",
              "      <td>15</td>\n",
              "    </tr>\n",
              "    <tr>\n",
              "      <th>Short &gt; Long</th>\n",
              "      <td>12</td>\n",
              "    </tr>\n",
              "    <tr>\n",
              "      <th>Spot Dust Conversion</th>\n",
              "      <td>10</td>\n",
              "    </tr>\n",
              "  </tbody>\n",
              "</table>\n",
              "</div><br><label><b>dtype:</b> int64</label>"
            ]
          },
          "metadata": {},
          "execution_count": 78
        }
      ]
    },
    {
      "cell_type": "markdown",
      "source": [
        "Trading Activity Over Time"
      ],
      "metadata": {
        "id": "UJ-MKWgKjz_r"
      }
    },
    {
      "cell_type": "code",
      "source": [
        "df['date'].value_counts().sort_index().head()\n",
        "#Shows trading activity volume over time (helps spot active vs quiet days)."
      ],
      "metadata": {
        "colab": {
          "base_uri": "https://localhost:8080/",
          "height": 272
        },
        "id": "9ohTa64fbSDi",
        "outputId": "2d1f8191-3d57-45d2-91c7-8b61315d9b33"
      },
      "execution_count": 79,
      "outputs": [
        {
          "output_type": "execute_result",
          "data": {
            "text/plain": [
              "date\n",
              "2023-05-01     3\n",
              "2023-12-05     9\n",
              "2023-12-14    11\n",
              "2023-12-15     2\n",
              "2023-12-16     3\n",
              "Name: count, dtype: int64"
            ],
            "text/html": [
              "<div>\n",
              "<style scoped>\n",
              "    .dataframe tbody tr th:only-of-type {\n",
              "        vertical-align: middle;\n",
              "    }\n",
              "\n",
              "    .dataframe tbody tr th {\n",
              "        vertical-align: top;\n",
              "    }\n",
              "\n",
              "    .dataframe thead th {\n",
              "        text-align: right;\n",
              "    }\n",
              "</style>\n",
              "<table border=\"1\" class=\"dataframe\">\n",
              "  <thead>\n",
              "    <tr style=\"text-align: right;\">\n",
              "      <th></th>\n",
              "      <th>count</th>\n",
              "    </tr>\n",
              "    <tr>\n",
              "      <th>date</th>\n",
              "      <th></th>\n",
              "    </tr>\n",
              "  </thead>\n",
              "  <tbody>\n",
              "    <tr>\n",
              "      <th>2023-05-01</th>\n",
              "      <td>3</td>\n",
              "    </tr>\n",
              "    <tr>\n",
              "      <th>2023-12-05</th>\n",
              "      <td>9</td>\n",
              "    </tr>\n",
              "    <tr>\n",
              "      <th>2023-12-14</th>\n",
              "      <td>11</td>\n",
              "    </tr>\n",
              "    <tr>\n",
              "      <th>2023-12-15</th>\n",
              "      <td>2</td>\n",
              "    </tr>\n",
              "    <tr>\n",
              "      <th>2023-12-16</th>\n",
              "      <td>3</td>\n",
              "    </tr>\n",
              "  </tbody>\n",
              "</table>\n",
              "</div><br><label><b>dtype:</b> int64</label>"
            ]
          },
          "metadata": {},
          "execution_count": 79
        }
      ]
    },
    {
      "cell_type": "markdown",
      "source": [
        "Average Profit/Loss by Market Sentiment"
      ],
      "metadata": {
        "id": "rPzad3DYj_LN"
      }
    },
    {
      "cell_type": "code",
      "source": [
        "avg_pnl = df.groupby('classification')['Closed PnL'].mean().sort_values(ascending=False)\n",
        "print(avg_pnl)\n",
        "#We analyze how profitable trades are during each market sentiment."
      ],
      "metadata": {
        "colab": {
          "base_uri": "https://localhost:8080/"
        },
        "id": "ng4LudV61dM9",
        "outputId": "63254920-f418-4fda-e084-9b69ec879d0f"
      },
      "execution_count": 80,
      "outputs": [
        {
          "output_type": "stream",
          "name": "stdout",
          "text": [
            "classification\n",
            "Extreme Greed    67.892861\n",
            "Fear             54.290400\n",
            "Greed            42.743559\n",
            "Extreme Fear     34.537862\n",
            "Neutral          34.307718\n",
            "Name: Closed PnL, dtype: float64\n"
          ]
        }
      ]
    },
    {
      "cell_type": "markdown",
      "source": [
        "Average Trade Size (USD) During Each Sentiment"
      ],
      "metadata": {
        "id": "b4EYXjSAkMnd"
      }
    },
    {
      "cell_type": "code",
      "source": [
        "avg_size = df.groupby('classification')['Size USD'].mean().sort_values(ascending=False)\n",
        "print(avg_size)\n",
        "#We check if traders tend to trade bigger amounts during Greed or Fear"
      ],
      "metadata": {
        "colab": {
          "base_uri": "https://localhost:8080/"
        },
        "id": "4F1v2uYp2L7J",
        "outputId": "eef5aaad-56e7-4ef1-ed30-9b049b661269"
      },
      "execution_count": 81,
      "outputs": [
        {
          "output_type": "stream",
          "name": "stdout",
          "text": [
            "classification\n",
            "Fear             7816.109931\n",
            "Greed            5736.884375\n",
            "Extreme Fear     5349.731843\n",
            "Neutral          4782.732661\n",
            "Extreme Greed    3112.251565\n",
            "Name: Size USD, dtype: float64\n"
          ]
        }
      ]
    },
    {
      "cell_type": "code",
      "source": [
        "plt.figure(figsize=(8,5))\n",
        "sns.barplot(x=avg_size.index, y=avg_size.values, palette='viridis')\n",
        "plt.title(\"Average Trade Size (USD) by Sentiment\")\n",
        "plt.ylabel(\"Avg Trade Size\")\n",
        "plt.show();"
      ],
      "metadata": {
        "colab": {
          "base_uri": "https://localhost:8080/",
          "height": 594
        },
        "id": "y_XEbCnx3bLZ",
        "outputId": "71f6ce82-6651-4fbf-f298-70b41f13226b"
      },
      "execution_count": 82,
      "outputs": [
        {
          "output_type": "stream",
          "name": "stderr",
          "text": [
            "/tmp/ipython-input-82-609820072.py:2: FutureWarning: \n",
            "\n",
            "Passing `palette` without assigning `hue` is deprecated and will be removed in v0.14.0. Assign the `x` variable to `hue` and set `legend=False` for the same effect.\n",
            "\n",
            "  sns.barplot(x=avg_size.index, y=avg_size.values, palette='viridis')\n"
          ]
        },
        {
          "output_type": "display_data",
          "data": {
            "text/plain": [
              "<Figure size 800x500 with 1 Axes>"
            ],
            "image/png": "[encoded data removed]"
          },
          "metadata": {}
        }
      ]
    },
    {
      "cell_type": "markdown",
      "source": [
        "Buy vs Sell Count by Sentiment"
      ],
      "metadata": {
        "id": "OBaQNA2mklLx"
      }
    },
    {
      "cell_type": "code",
      "source": [
        "side_counts = df.groupby(['classification', 'Side']).size().unstack()\n",
        "print(side_counts)\n",
        "##We want to know if people BUY more in Greed and SELL more in Fear."
      ],
      "metadata": {
        "colab": {
          "base_uri": "https://localhost:8080/"
        },
        "id": "PMUbftfm3lw2",
        "outputId": "a2bae6a2-b982-47b3-eb3c-1c43b950da4f"
      },
      "execution_count": 83,
      "outputs": [
        {
          "output_type": "stream",
          "name": "stdout",
          "text": [
            "Side              BUY   SELL\n",
            "classification              \n",
            "Extreme Fear    10935  10465\n",
            "Extreme Greed   17940  22052\n",
            "Fear            30270  31567\n",
            "Greed           24576  25727\n",
            "Neutral         18969  18717\n"
          ]
        }
      ]
    },
    {
      "cell_type": "code",
      "source": [
        "plt.figure(figsize=(10,6))\n",
        "sns.boxplot(x='classification', y='Closed PnL', data=df, palette='Set2')\n",
        "plt.title(\"PnL Distribution by Sentiment\")\n",
        "plt.xticks(rotation=30)\n",
        "plt.show()## We examine the variation and outliers in profits/losses during each sentiment."
      ],
      "metadata": {
        "colab": {
          "base_uri": "https://localhost:8080/",
          "height": 722
        },
        "id": "CPkKJ2ba4YjP",
        "outputId": "aa12f42d-5632-47b5-e992-700aa148a265"
      },
      "execution_count": 84,
      "outputs": [
        {
          "output_type": "stream",
          "name": "stderr",
          "text": [
            "/tmp/ipython-input-84-4263937846.py:2: FutureWarning: \n",
            "\n",
            "Passing `palette` without assigning `hue` is deprecated and will be removed in v0.14.0. Assign the `x` variable to `hue` and set `legend=False` for the same effect.\n",
            "\n",
            "  sns.boxplot(x='classification', y='Closed PnL', data=df, palette='Set2')\n"
          ]
        },
        {
          "output_type": "display_data",
          "data": {
            "text/plain": [
              "<Figure size 1000x600 with 1 Axes>"
            ],
            "image/png": "[encoded data removed]"
          },
          "metadata": {}
        }
      ]
    },
    {
      "cell_type": "markdown",
      "source": [
        " Average Fee Paid by Sentiment"
      ],
      "metadata": {
        "id": "4Oxef-76kv5x"
      }
    },
    {
      "cell_type": "code",
      "source": [
        "avg_fee = df.groupby('classification')['Fee'].mean().sort_values(ascending=False)\n",
        "print(avg_fee)\n",
        "##We check if traders pay more fees in greedy or fearful markets (e.g., due to urgency)\n",
        " #confirmation of whether high emotion leads to higher trading costs"
      ],
      "metadata": {
        "colab": {
          "base_uri": "https://localhost:8080/"
        },
        "id": "vNpoOrLu8pWY",
        "outputId": "366cf572-43c9-41b6-b92d-8f077a520ca0"
      },
      "execution_count": 85,
      "outputs": [
        {
          "output_type": "stream",
          "name": "stdout",
          "text": [
            "classification\n",
            "Fear             1.495172\n",
            "Greed            1.254372\n",
            "Extreme Fear     1.116291\n",
            "Neutral          1.044798\n",
            "Extreme Greed    0.675902\n",
            "Name: Fee, dtype: float64\n"
          ]
        }
      ]
    },
    {
      "cell_type": "markdown",
      "source": [
        "Daily Trading Activity"
      ],
      "metadata": {
        "id": "Zs2P7nn8k67O"
      }
    },
    {
      "cell_type": "code",
      "source": [
        "daily_trades = df.groupby('date').size()\n",
        "\n",
        "daily_sentiment = df.groupby('date')['classification'].first()\n",
        "\n",
        "trade_sentiment = pd.DataFrame({'Trade Count': daily_trades, 'Sentiment': daily_sentiment})\n",
        "print(trade_sentiment)\n",
        "##We uncover how trading activity changes daily and which sentiment dominates when volume spikes"
      ],
      "metadata": {
        "colab": {
          "base_uri": "https://localhost:8080/"
        },
        "id": "EWCztc7R_lUe",
        "outputId": "0c41a7a8-e9bd-4de3-f5d2-f952ec2b0e99"
      },
      "execution_count": 86,
      "outputs": [
        {
          "output_type": "stream",
          "name": "stdout",
          "text": [
            "            Trade Count      Sentiment\n",
            "date                                  \n",
            "2023-05-01            3          Greed\n",
            "2023-12-05            9  Extreme Greed\n",
            "2023-12-14           11          Greed\n",
            "2023-12-15            2          Greed\n",
            "2023-12-16            3          Greed\n",
            "...                 ...            ...\n",
            "2025-04-27          337          Greed\n",
            "2025-04-28         1379        Neutral\n",
            "2025-04-29         2243          Greed\n",
            "2025-04-30         1113          Greed\n",
            "2025-05-01         1230        Neutral\n",
            "\n",
            "[480 rows x 2 columns]\n"
          ]
        }
      ]
    },
    {
      "cell_type": "markdown",
      "source": [
        " High Profit Trade Sentiment"
      ],
      "metadata": {
        "id": "TE-3rvK6lNlO"
      }
    },
    {
      "cell_type": "code",
      "source": [
        "high_pnl_df = df[df['Closed PnL'] > 1000]\n",
        "\n",
        "high_pnl_counts = high_pnl_df['classification'].value_counts()\n",
        "high_pnl_counts\n",
        "## Counting how many high-profit trades (>1000 PnL) happen under each sentiment"
      ],
      "metadata": {
        "colab": {
          "base_uri": "https://localhost:8080/",
          "height": 272
        },
        "id": "fSm9Fo3WAh6F",
        "outputId": "d39c624e-3ae3-4250-ec90-619809c7bc9c"
      },
      "execution_count": 87,
      "outputs": [
        {
          "output_type": "execute_result",
          "data": {
            "text/plain": [
              "classification\n",
              "Fear             693\n",
              "Extreme Greed    486\n",
              "Greed            465\n",
              "Neutral          324\n",
              "Extreme Fear     187\n",
              "Name: count, dtype: int64"
            ],
            "text/html": [
              "<div>\n",
              "<style scoped>\n",
              "    .dataframe tbody tr th:only-of-type {\n",
              "        vertical-align: middle;\n",
              "    }\n",
              "\n",
              "    .dataframe tbody tr th {\n",
              "        vertical-align: top;\n",
              "    }\n",
              "\n",
              "    .dataframe thead th {\n",
              "        text-align: right;\n",
              "    }\n",
              "</style>\n",
              "<table border=\"1\" class=\"dataframe\">\n",
              "  <thead>\n",
              "    <tr style=\"text-align: right;\">\n",
              "      <th></th>\n",
              "      <th>count</th>\n",
              "    </tr>\n",
              "    <tr>\n",
              "      <th>classification</th>\n",
              "      <th></th>\n",
              "    </tr>\n",
              "  </thead>\n",
              "  <tbody>\n",
              "    <tr>\n",
              "      <th>Fear</th>\n",
              "      <td>693</td>\n",
              "    </tr>\n",
              "    <tr>\n",
              "      <th>Extreme Greed</th>\n",
              "      <td>486</td>\n",
              "    </tr>\n",
              "    <tr>\n",
              "      <th>Greed</th>\n",
              "      <td>465</td>\n",
              "    </tr>\n",
              "    <tr>\n",
              "      <th>Neutral</th>\n",
              "      <td>324</td>\n",
              "    </tr>\n",
              "    <tr>\n",
              "      <th>Extreme Fear</th>\n",
              "      <td>187</td>\n",
              "    </tr>\n",
              "  </tbody>\n",
              "</table>\n",
              "</div><br><label><b>dtype:</b> int64</label>"
            ]
          },
          "metadata": {},
          "execution_count": 87
        }
      ]
    },
    {
      "cell_type": "markdown",
      "source": [
        "Total Profit/Loss by Sentiment"
      ],
      "metadata": {
        "id": "uH6J3PuMld3t"
      }
    },
    {
      "cell_type": "code",
      "source": [
        "total_pnl = df.groupby('classification')['Closed PnL'].sum().sort_values(ascending=False)\n",
        "\n",
        "plt.figure(figsize=(8,5))\n",
        "sns.barplot(x=total_pnl.index, y=total_pnl.values, palette='coolwarm')\n",
        "plt.title(\"Total Closed PnL by Sentiment\")\n",
        "plt.ylabel(\"Total PnL\")\n",
        "plt.xticks(rotation=30)\n",
        "plt.show()\n",
        " # Total PnL across all trades to find the most profitable sentiment type overall"
      ],
      "metadata": {
        "colab": {
          "base_uri": "https://localhost:8080/",
          "height": 645
        },
        "id": "9UuOlRWlNTrr",
        "outputId": "696fc3f8-15b1-4c4e-b473-96977620d506"
      },
      "execution_count": 88,
      "outputs": [
        {
          "output_type": "stream",
          "name": "stderr",
          "text": [
            "/tmp/ipython-input-88-1538606460.py:4: FutureWarning: \n",
            "\n",
            "Passing `palette` without assigning `hue` is deprecated and will be removed in v0.14.0. Assign the `x` variable to `hue` and set `legend=False` for the same effect.\n",
            "\n",
            "  sns.barplot(x=total_pnl.index, y=total_pnl.values, palette='coolwarm')\n"
          ]
        },
        {
          "output_type": "display_data",
          "data": {
            "text/plain": [
              "<Figure size 800x500 with 1 Axes>"
            ],
            "image/png": "[encoded data removed]"
          },
          "metadata": {}
        }
      ]
    },
    {
      "cell_type": "markdown",
      "source": [
        "\n",
        "In this project, I explored how trader behavior changes depending on the market mood (Fear or Greed), using two datasets — 1)trade activity\n",
        "2)fear greed index\n",
        "I found that:\n",
        "\n",
        "Traders tend to buy more during \"greed\" and sell more during \"fear\" phases.\n",
        "\n",
        "Profits (PnL) are usually higher in greed phases, but there’s also more risk.\n",
        "\n",
        "Trade sizes are bigger when the market is in greed — meaning people take bolder actions.\n",
        "\n",
        "Fees paid are also slightly higher during greed — maybe due to more activity or faster decisions.\n",
        "\n",
        "On days with high activity, greed is usually the dominating sentiment.\n",
        "\n",
        "I also checked high-profit trades, and most of them happened during greed phases\n",
        "\n"
      ],
      "metadata": {
        "id": "3wWffcmfoWwB"
      }
    },
    {
      "cell_type": "code",
      "source": [],
      "metadata": {
        "id": "uiA9PohefYOO"
      },
      "execution_count": 66,
      "outputs": []
    }
  ]
}